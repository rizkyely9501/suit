{
  "nbformat": 4,
  "nbformat_minor": 0,
  "metadata": {
    "colab": {
      "name": "(versi 3) Kegiatan Modul 3 bismillah.ipynb",
      "provenance": [],
      "collapsed_sections": [
        "06V87X5rVRM2",
        "-muSoJjnFt8y",
        "fLoYIWSbKgko",
        "UxLpoRM6i6SV"
      ]
    },
    "kernelspec": {
      "name": "python3",
      "display_name": "Python 3"
    },
    "language_info": {
      "name": "python"
    }
  },
  "cells": [
    {
      "cell_type": "markdown",
      "metadata": {
        "id": "wQBa4hXoxDUd"
      },
      "source": [
        "# **Soal Praktikum Overfitting Handling #1**"
      ]
    },
    {
      "cell_type": "markdown",
      "metadata": {
        "id": "06V87X5rVRM2"
      },
      "source": [
        "## Kegiatan 1 **(Individu)** \n",
        "70 poin"
      ]
    },
    {
      "cell_type": "markdown",
      "metadata": {
        "id": "u6kTqqtESNnc"
      },
      "source": [
        "**Peraturan :**\n",
        "* Tidak boleh ada error dalam kode program\n",
        "* Dalam modul ini tidak diperbolehkan menggunakan teknik transfer learning dari pretrain model baik yang telah dibangun sendiri atau anda dapatkan dari sumber lain (tensorflow, keras, dan sebagainya)\n",
        "* Perhatikan langkah demi langkah yang diperintahkan dalam kegiatan ini"
      ]
    },
    {
      "cell_type": "markdown",
      "metadata": {
        "id": "-muSoJjnFt8y"
      },
      "source": [
        "### Pengenalan tugas kegiatan 1"
      ]
    },
    {
      "cell_type": "markdown",
      "metadata": {
        "id": "LxFmKc3D1apX"
      },
      "source": [
        "Dataset yang akan anda gunakan dalam kegiatan ini adalah dataset [Rock Paper Scissors](https://www.kaggle.com/drgfreeman/rockpaperscissors).  Demi mempermudah anda dalam mengerjakan modul ini maka akan sangat disarankan untuk menggunakan [google colab](https://colab.research.google.com/). Anda dapat menggunakan google colab untuk mendownload langsung dataset dari kaggle dan menyimpannya dalam google drive anda. Untuk kenyamanan dan ruang kerja yang besar akan lebih baik anda menggunakan email kampus untuk menyimpan dataset yang anda gunakan. Perhatikan langkah berikut untuk melakukan setting environment anda."
      ]
    },
    {
      "cell_type": "markdown",
      "metadata": {
        "id": "fLoYIWSbKgko"
      },
      "source": [
        "### 1. Initial process\n",
        "\n"
      ]
    },
    {
      "cell_type": "markdown",
      "metadata": {
        "id": "8yzN1yOK1V-K"
      },
      "source": [
        "* Mount drive terlebih dahulu\n",
        "\n",
        "* Untuk dapat mengakses dataset ini anda diharuskan memiliki akun kaggle. Jika belum memilikinya buat satu akun pribadi.\n",
        "\n",
        "* Download kaggle API.json kemudian upload dalam google drive anda.\n",
        "\n",
        "* Ubah lokasi direktori kerja anda ke direktori dimana anda menyimpan kaggle.json\n",
        "\n",
        "* Buka laman dataset kemudian Copy API Command.\n",
        "\n",
        "* Jalankan perintah untuk mendownload dataset dari kaggle menggunakan google colab.\n",
        "\n",
        "* Gunakan tutorial berikut untuk lebih jelasnya : [Fetch Kaggle Dataset into Google Colab](https://medium.com/analytics-vidhya/how-to-fetch-kaggle-datasets-into-google-colab-ea682569851a)\n",
        "\n",
        "* Untuk selanjutnya pahami code dibawah dengan baik."
      ]
    },
    {
      "cell_type": "code",
      "metadata": {
        "id": "_iP7_H-5ubtG"
      },
      "source": [
        "from google.colab import drive\n",
        "drive.mount('/content/drive')"
      ],
      "execution_count": null,
      "outputs": []
    },
    {
      "cell_type": "code",
      "metadata": {
        "id": "fWkAcnefSPKI"
      },
      "source": [
        "# Definisikan path kaggle json\n",
        "# Sesuaikan dengan path anda\n",
        "import os\n",
        "os.environ['KAGGLE_CONFIG_DIR'] = \"/content/drive/My Drive/RESEARCH CENTER/DATASETS\""
      ],
      "execution_count": null,
      "outputs": []
    },
    {
      "cell_type": "code",
      "metadata": {
        "id": "IPUJ-XM5S4Th"
      },
      "source": [
        "# Ubah lokasi direktori kerja\n",
        "# Sesuaikan dengan path anda\n",
        "%cd /content/drive/My Drive/RESEARCH CENTER/DATASETS"
      ],
      "execution_count": null,
      "outputs": []
    },
    {
      "cell_type": "code",
      "metadata": {
        "id": "69Bbmd-TCGhh",
        "colab": {
          "base_uri": "https://localhost:8080/"
        },
        "outputId": "b2ee2d25-6534-4102-d122-52d4e875627e"
      },
      "source": [
        "# Cek apakah api sudah terbaca oleh sistem\n",
        "!ls  "
      ],
      "execution_count": null,
      "outputs": [
        {
          "output_type": "stream",
          "name": "stdout",
          "text": [
            "sample_data\n"
          ]
        }
      ]
    },
    {
      "cell_type": "code",
      "metadata": {
        "id": "C873rxqZ4RPH"
      },
      "source": [
        "!mkdir ~/.kaggle\n",
        "!touch ~/.kaggle/kaggle.json\n",
        "\n",
        "api_token = {\"username\":\"rizkyely\",\"key\":\"5e34d0e39a9fdd843a0662ac9e5a61cd\"}\n",
        "\n",
        "import json\n",
        "\n",
        "with open('/root/.kaggle/kaggle.json', 'w') as file:\n",
        "    json.dump(api_token, file)\n",
        "\n",
        "!chmod 600 ~/.kaggle/kaggle.json"
      ],
      "execution_count": 1,
      "outputs": []
    },
    {
      "cell_type": "markdown",
      "metadata": {
        "id": "7wGGZC8vTX0A"
      },
      "source": [
        "* Paste API Command dari kaggle dataset yang telah anda copy sebelumnya dan tambahkan tanda seru didepannya.\n",
        "* Pastikan anda menggunakan akun google dari kampus untuk mendapatkan storage penyimpanan unlimited.\n",
        "* Lebih disarankan untuk menggunakan google colab karena proses download data lebih cepat dan stabil daripada download manual dan menggunakan jupyter notebook."
      ]
    },
    {
      "cell_type": "code",
      "metadata": {
        "id": "emSTR53KTGW9",
        "colab": {
          "base_uri": "https://localhost:8080/"
        },
        "outputId": "cefca21e-58d7-45a0-af91-0fb96e647e7f"
      },
      "source": [
        "!kaggle datasets download -d drgfreeman/rockpaperscissors"
      ],
      "execution_count": 2,
      "outputs": [
        {
          "output_type": "stream",
          "name": "stdout",
          "text": [
            "Downloading rockpaperscissors.zip to /content\n",
            " 97% 297M/306M [00:03<00:00, 102MB/s]\n",
            "100% 306M/306M [00:03<00:00, 80.3MB/s]\n"
          ]
        }
      ]
    },
    {
      "cell_type": "code",
      "metadata": {
        "id": "JcpagHVWbdDY",
        "colab": {
          "base_uri": "https://localhost:8080/"
        },
        "outputId": "11751a1e-4e03-4a5a-c94e-f5e6e83779f6"
      },
      "source": [
        "# Cek isi direktori kerja dan memastikan dataset telah berhasil didownload.\n",
        "!ls"
      ],
      "execution_count": null,
      "outputs": [
        {
          "output_type": "stream",
          "name": "stdout",
          "text": [
            "kaggle.json  rockpaperscissors.zip  sample_data\n"
          ]
        }
      ]
    },
    {
      "cell_type": "code",
      "metadata": {
        "id": "3HDyNsR3bam4"
      },
      "source": [
        "# Ekstrak file dataset dan hapus file zip dataset agar tidak memakan banyak tempat.\n",
        "!unzip \\*.zip &> /dev/null && rm *.zip"
      ],
      "execution_count": 3,
      "outputs": []
    },
    {
      "cell_type": "code",
      "metadata": {
        "id": "Vgw_k1zihmkK",
        "colab": {
          "base_uri": "https://localhost:8080/"
        },
        "outputId": "52664ae3-e86e-48be-fae4-7104a9ce4327"
      },
      "source": [
        "# Cek isi direktori kerja untuk memastikan dataset telah berhasil diekstrak.\n",
        "!ls"
      ],
      "execution_count": null,
      "outputs": [
        {
          "output_type": "stream",
          "name": "stdout",
          "text": [
            " kaggle.json   README_rpc-cv-images.txt   rps-cv-images   scissors\n",
            " paper\t       rock\t\t\t  sample_data\t 'Untitled Folder'\n"
          ]
        }
      ]
    },
    {
      "cell_type": "markdown",
      "metadata": {
        "id": "dPVmxstVUvyL"
      },
      "source": [
        "Buat folder baru bernama `dataset` dan memindahkan folder `paper, rock, scissors` kedalam folder `dataset`. Selanjutnya, lakukan splitting dataset menjadi 3 bagian `train, test, val` dan simpan ketiga folder tersebut diluar folder `dataset`. Data `train dan val` akan digunakan ketika anda melakukan training model. Dan data `test` akan anda gunakan ketika anda melakukan prediksi unseen data menggunakan model yang telah anda latih.\n",
        "\n",
        "*Ingat google colab juga menerima command berbasis linux.*"
      ]
    },
    {
      "cell_type": "code",
      "metadata": {
        "id": "FGb3ozqU4OwJ"
      },
      "source": [
        "%cd /content/\n",
        "\n",
        "%cp -av scissors dataset"
      ],
      "execution_count": null,
      "outputs": []
    },
    {
      "cell_type": "code",
      "metadata": {
        "id": "8ZGXnx5W4faP"
      },
      "source": [
        "%cp -av paper dataset\n",
        "%cp -av rock dataset"
      ],
      "execution_count": null,
      "outputs": []
    },
    {
      "cell_type": "code",
      "metadata": {
        "colab": {
          "base_uri": "https://localhost:8080/"
        },
        "id": "Z0WuLTEVQzqG",
        "outputId": "d3c53f36-ba51-4aeb-da20-449096f0973a"
      },
      "source": [
        "pip install split-folders"
      ],
      "execution_count": 6,
      "outputs": [
        {
          "output_type": "stream",
          "name": "stdout",
          "text": [
            "Collecting split-folders\n",
            "  Downloading split_folders-0.4.3-py3-none-any.whl (7.4 kB)\n",
            "Installing collected packages: split-folders\n",
            "Successfully installed split-folders-0.4.3\n"
          ]
        }
      ]
    },
    {
      "cell_type": "code",
      "metadata": {
        "colab": {
          "base_uri": "https://localhost:8080/"
        },
        "id": "NTIi39xIQ_T4",
        "outputId": "6ee05bfe-7d99-441c-ea73-a6c9d5f3835e"
      },
      "source": [
        "import splitfolders\n",
        "\n",
        "splitfolders.ratio(\"/content/rps-cv-images\", output=\"/content/\", seed= 1337, ratio =(.7,.2,.1), group_prefix=None)"
      ],
      "execution_count": 7,
      "outputs": [
        {
          "output_type": "stream",
          "name": "stderr",
          "text": [
            "Copying files: 2188 files [00:00, 3236.96 files/s]\n"
          ]
        }
      ]
    },
    {
      "cell_type": "code",
      "metadata": {
        "colab": {
          "base_uri": "https://localhost:8080/"
        },
        "id": "KFV8JXny5ORP",
        "outputId": "05a0478d-222d-406c-9a2e-fcc27db56845"
      },
      "source": [
        "import os\n",
        "\n",
        "print('jumlah train : ', len(os.listdir('/content/train/rock')))\n",
        "print('jumlah val : ', len(os.listdir('/content/val/rock')))\n",
        "print('jumlah test : ', len(os.listdir('/content/test/rock')))"
      ],
      "execution_count": 9,
      "outputs": [
        {
          "output_type": "stream",
          "name": "stdout",
          "text": [
            "jumlah train :  508\n",
            "jumlah val :  145\n",
            "jumlah test :  73\n"
          ]
        }
      ]
    },
    {
      "cell_type": "markdown",
      "metadata": {
        "id": "UxLpoRM6i6SV"
      },
      "source": [
        "### 2. Data Preprocessing"
      ]
    },
    {
      "cell_type": "markdown",
      "metadata": {
        "id": "ZJHBci_m0vKy"
      },
      "source": [
        "Kita anggap dataset yang kita miliki merupakan dataset yang telah bersih dan siap digunakan untuk proses training model. Namun agar data yang kita miliki dapat diproses oleh model maka kita perlu melakukan sedikit proses augmentasi sederhana. \n",
        "\n",
        "**NOTE :** Penjelasan augmentasi secara detail akan dibahas pada modul selanjutnya. Disini kita akan mengunakan augmentasi sederhana saja seperti resize, flip dan rotation."
      ]
    },
    {
      "cell_type": "markdown",
      "metadata": {
        "id": "fxkE0duhmOt4"
      },
      "source": [
        "Lakukan proses agumentasi sederhana pada dataset anda menggunakan `ImageDataGenerator` dengan ketentuan melakukan proses seperti berikut :\n",
        "\n",
        "* Resize\n",
        "* Rescaling\n",
        "* Color Mode\n",
        "* Shuffle\n",
        "* Class Mode\n",
        "\n",
        "Terapkan semua proses diatas pada data `train, test dan validation`."
      ]
    },
    {
      "cell_type": "code",
      "metadata": {
        "id": "ryTd4y3KUiAL"
      },
      "source": [
        "import os\n",
        "\n",
        "base_dir = '/content/'\n",
        "train_dir = os.path.join(base_dir,'train')\n",
        "validation_dir = os.path.join(base_dir, 'val')\n",
        "test_dir = os.path.join(base_dir, 'test')"
      ],
      "execution_count": 10,
      "outputs": []
    },
    {
      "cell_type": "code",
      "metadata": {
        "id": "DsksSAhuUnrm"
      },
      "source": [
        "train_rock = os.path.join(train_dir, 'rock')\n",
        "train_paper = os.path.join(train_dir, 'paper')\n",
        "train_scissors = os.path.join(train_dir, 'scissors')\n",
        "\n",
        "val_rock = os.path.join(validation_dir, 'rock')\n",
        "val_paper = os.path.join(validation_dir, 'paper')\n",
        "val_scissors = os.path.join(validation_dir, 'scissors')\n",
        "\n",
        "test_rock = os.path.join(validation_dir, 'rock')\n",
        "test_paper = os.path.join(validation_dir, 'paper')\n",
        "test_scissors = os.path.join(validation_dir, 'scissors')"
      ],
      "execution_count": 11,
      "outputs": []
    },
    {
      "cell_type": "code",
      "metadata": {
        "id": "Ga4Hz63e2bpl"
      },
      "source": [
        "# TULIS KODE ANDA DISINI\n",
        "from tensorflow.keras.preprocessing.image import ImageDataGenerator\n",
        "\n",
        "train_datagen = ImageDataGenerator(\n",
        "                    rescale=1./255,\n",
        "                    rotation_range=20,\n",
        "                    horizontal_flip=True,\n",
        "                    shear_range = 0.2,\n",
        "                    fill_mode = 'nearest')\n",
        " \n",
        "test_datagen = ImageDataGenerator(\n",
        "                    rescale=1./255,\n",
        "                    rotation_range=20,\n",
        "                    horizontal_flip=True,\n",
        "                    shear_range = 0.2,\n",
        "                    fill_mode = 'nearest')\n",
        "\n",
        "validation_datagen = ImageDataGenerator(\n",
        "                    rescale=1./255,\n",
        "                    rotation_range=20,\n",
        "                    horizontal_flip=True,\n",
        "                    shear_range = 0.2,\n",
        "                    fill_mode = 'nearest')"
      ],
      "execution_count": 12,
      "outputs": []
    },
    {
      "cell_type": "code",
      "metadata": {
        "colab": {
          "base_uri": "https://localhost:8080/"
        },
        "id": "hhrwgt_05EsZ",
        "outputId": "6e681985-75ea-4950-d68d-0897e3a2f92e"
      },
      "source": [
        "train_generator = train_datagen.flow_from_directory(\n",
        "        train_dir,  \n",
        "        target_size=(150, 150),\n",
        "        color_mode='rgb',\n",
        "        shuffle='True',\n",
        "        batch_size=32,\n",
        "        class_mode='categorical')\n",
        "\n",
        "test_generator = test_datagen.flow_from_directory(\n",
        "        test_dir, \n",
        "        target_size=(150, 150),\n",
        "        color_mode='rgb',\n",
        "        shuffle='False', \n",
        "        batch_size=32, \n",
        "        class_mode='categorical')\n",
        " \n",
        "validation_generator = train_datagen.flow_from_directory(\n",
        "        validation_dir, \n",
        "        target_size=(150, 150),\n",
        "        color_mode='rgb',\n",
        "        shuffle='True', \n",
        "        batch_size=32, \n",
        "        class_mode='categorical')"
      ],
      "execution_count": 13,
      "outputs": [
        {
          "output_type": "stream",
          "name": "stdout",
          "text": [
            "Found 1531 images belonging to 3 classes.\n",
            "Found 220 images belonging to 3 classes.\n",
            "Found 437 images belonging to 3 classes.\n"
          ]
        }
      ]
    },
    {
      "cell_type": "markdown",
      "metadata": {
        "id": "iNr_kRbxyZYT"
      },
      "source": [
        "### 3. Definisikan Model CNN"
      ]
    },
    {
      "cell_type": "markdown",
      "metadata": {
        "id": "5I939-GX0qsZ"
      },
      "source": [
        "Bangun model CNN dan lakukan evaluasi sesuai kriteria **WAJIB** berikut:\n",
        "\n",
        "* Menerapkan proses Convolution \n",
        "* Menerapkan proses Pooling\n",
        "* Menerapkan Dropout\n",
        "* Menerpakan BatchNormalization\n",
        "* Evaluasi model menggunakan grafik loss dan accuracy\n",
        "* Evaluasi menggunakan classification report\n",
        "* Evaluasi menggunakan confusion matrix\n",
        "* Pastikan nilai akurasi model > 80%\n",
        "* Mendefinisikan minimal 100 epoch untuk masing-masing model\n",
        "* Melakukan prediksi minimal 15 gambar acak yang dapat mewakili seluruh kelas\n",
        "* Menampilkan input gambar yang di prediksi beserta label hasil prediksi, nilai akurasi prediksi, dan lama waktu prediksi dalam sebuah plot. (15 gambar ditampilkan dalam 1 plot)\n",
        "* Save model dalam file `json` dan simpan bobot dalam file `HDF5`\n",
        "* Pastikan model anda dapat memprediksi unseen data dengan benar."
      ]
    },
    {
      "cell_type": "code",
      "metadata": {
        "id": "_BwlkwcO2fpf"
      },
      "source": [
        "# TULIS KODE ANDA DISINI\n",
        "import tensorflow as tf\n",
        "from tensorflow.keras.optimizers import RMSprop\n",
        "from tensorflow.keras import layers\n",
        "from tensorflow import keras\n",
        "\n",
        "model = tf.keras.models.Sequential([\n",
        "  tf.keras.layers.Conv2D(32, (3,3), activation = 'relu', input_shape= (150,150,3)),\n",
        "  tf.keras.layers.MaxPooling2D(2,2),\n",
        "  tf.keras.layers.Conv2D(64,(3,3), activation= 'relu'),\n",
        "  tf.keras.layers.MaxPooling2D(2,2),\n",
        "  tf.keras.layers.Conv2D(128,(3,3), activation= 'relu'),\n",
        "  tf.keras.layers.MaxPooling2D(2,2),\n",
        "  tf.keras.layers.Conv2D(128,(3,3), activation= 'relu'),\n",
        "  tf.keras.layers.MaxPooling2D(2,2),\n",
        "  tf.keras.layers.BatchNormalization(),\n",
        "  tf.keras.layers.Dropout(0.4),\n",
        "  tf.keras.layers.Flatten(),\n",
        "  tf.keras.layers.Dense(256, activation= 'relu'),\n",
        "  tf.keras.layers.Dense(3, activation= 'sigmoid')\n",
        "])"
      ],
      "execution_count": 14,
      "outputs": []
    },
    {
      "cell_type": "code",
      "metadata": {
        "id": "5rE3Ym8Y5eAP"
      },
      "source": [
        "class myCallback(tf.keras.callbacks.Callback):\n",
        "  def on_epoch_end(self, epoch, logs={}):\n",
        "    if(logs.get('accuracy')>0.99):\n",
        "      print(\"\\n\\n Akurasi train dan validasi didapat telah mencapai nilai > 99%!\")\n",
        "      self.model.stop_training = True\n",
        "callbacks = myCallback()"
      ],
      "execution_count": 15,
      "outputs": []
    },
    {
      "cell_type": "code",
      "metadata": {
        "id": "S_ejKj5YAkS0"
      },
      "source": [
        "model.compile(loss='categorical_crossentropy',\n",
        "              optimizer=RMSprop(),\n",
        "              metrics=['accuracy'])"
      ],
      "execution_count": 16,
      "outputs": []
    },
    {
      "cell_type": "code",
      "metadata": {
        "colab": {
          "base_uri": "https://localhost:8080/"
        },
        "id": "BEJscnY5Alrr",
        "outputId": "e68bb237-461e-495a-b97c-7e527f9f65d4"
      },
      "source": [
        "history = model.fit(\n",
        "    train_generator,\n",
        "    steps_per_epoch = 25,\n",
        "    epochs = 100,\n",
        "    validation_data = validation_generator,\n",
        "    validation_steps = 5,\n",
        "    verbose = 2,)"
      ],
      "execution_count": 17,
      "outputs": [
        {
          "output_type": "stream",
          "name": "stdout",
          "text": [
            "Epoch 1/100\n",
            "25/25 - 41s - loss: 0.9632 - accuracy: 0.6528 - val_loss: 1.1439 - val_accuracy: 0.3500 - 41s/epoch - 2s/step\n",
            "Epoch 2/100\n",
            "25/25 - 39s - loss: 0.3568 - accuracy: 0.8700 - val_loss: 1.1213 - val_accuracy: 0.3313 - 39s/epoch - 2s/step\n",
            "Epoch 3/100\n",
            "25/25 - 38s - loss: 0.2648 - accuracy: 0.9050 - val_loss: 0.9288 - val_accuracy: 0.5625 - 38s/epoch - 2s/step\n",
            "Epoch 4/100\n",
            "25/25 - 38s - loss: 0.2228 - accuracy: 0.9157 - val_loss: 0.9600 - val_accuracy: 0.6187 - 38s/epoch - 2s/step\n",
            "Epoch 5/100\n",
            "25/25 - 38s - loss: 0.1463 - accuracy: 0.9538 - val_loss: 0.7029 - val_accuracy: 0.6500 - 38s/epoch - 2s/step\n",
            "Epoch 6/100\n",
            "25/25 - 38s - loss: 0.1590 - accuracy: 0.9563 - val_loss: 1.6013 - val_accuracy: 0.3438 - 38s/epoch - 2s/step\n",
            "Epoch 7/100\n",
            "25/25 - 38s - loss: 0.0937 - accuracy: 0.9723 - val_loss: 0.5944 - val_accuracy: 0.7125 - 38s/epoch - 2s/step\n",
            "Epoch 8/100\n",
            "25/25 - 38s - loss: 0.0897 - accuracy: 0.9688 - val_loss: 2.0657 - val_accuracy: 0.2937 - 38s/epoch - 2s/step\n",
            "Epoch 9/100\n",
            "25/25 - 38s - loss: 0.0707 - accuracy: 0.9762 - val_loss: 0.3955 - val_accuracy: 0.8625 - 38s/epoch - 2s/step\n",
            "Epoch 10/100\n",
            "25/25 - 38s - loss: 0.0590 - accuracy: 0.9874 - val_loss: 0.4721 - val_accuracy: 0.8188 - 38s/epoch - 2s/step\n",
            "Epoch 11/100\n",
            "25/25 - 38s - loss: 0.1313 - accuracy: 0.9648 - val_loss: 1.1541 - val_accuracy: 0.5437 - 38s/epoch - 2s/step\n",
            "Epoch 12/100\n",
            "25/25 - 38s - loss: 0.0996 - accuracy: 0.9825 - val_loss: 0.1526 - val_accuracy: 0.9875 - 38s/epoch - 2s/step\n",
            "Epoch 13/100\n",
            "25/25 - 38s - loss: 0.1122 - accuracy: 0.9660 - val_loss: 0.5300 - val_accuracy: 0.7812 - 38s/epoch - 2s/step\n",
            "Epoch 14/100\n",
            "25/25 - 38s - loss: 0.0759 - accuracy: 0.9824 - val_loss: 3.8385 - val_accuracy: 0.3375 - 38s/epoch - 2s/step\n",
            "Epoch 15/100\n",
            "25/25 - 38s - loss: 0.0880 - accuracy: 0.9811 - val_loss: 9.8321 - val_accuracy: 0.3250 - 38s/epoch - 2s/step\n",
            "Epoch 16/100\n",
            "25/25 - 38s - loss: 0.1057 - accuracy: 0.9623 - val_loss: 2.9698 - val_accuracy: 0.4563 - 38s/epoch - 2s/step\n",
            "Epoch 17/100\n",
            "25/25 - 38s - loss: 0.0549 - accuracy: 0.9825 - val_loss: 1.3508 - val_accuracy: 0.5437 - 38s/epoch - 2s/step\n",
            "Epoch 18/100\n",
            "25/25 - 38s - loss: 0.0721 - accuracy: 0.9762 - val_loss: 0.0588 - val_accuracy: 0.9875 - 38s/epoch - 2s/step\n",
            "Epoch 19/100\n",
            "25/25 - 37s - loss: 0.0342 - accuracy: 0.9899 - val_loss: 0.3145 - val_accuracy: 0.8750 - 37s/epoch - 1s/step\n",
            "Epoch 20/100\n",
            "25/25 - 38s - loss: 0.0517 - accuracy: 0.9837 - val_loss: 0.8814 - val_accuracy: 0.8250 - 38s/epoch - 2s/step\n",
            "Epoch 21/100\n",
            "25/25 - 38s - loss: 0.0765 - accuracy: 0.9748 - val_loss: 1.9195 - val_accuracy: 0.6750 - 38s/epoch - 2s/step\n",
            "Epoch 22/100\n",
            "25/25 - 37s - loss: 0.0349 - accuracy: 0.9899 - val_loss: 0.1180 - val_accuracy: 0.9750 - 37s/epoch - 1s/step\n",
            "Epoch 23/100\n",
            "25/25 - 38s - loss: 0.1170 - accuracy: 0.9762 - val_loss: 0.0667 - val_accuracy: 0.9812 - 38s/epoch - 2s/step\n",
            "Epoch 24/100\n",
            "25/25 - 38s - loss: 0.0560 - accuracy: 0.9850 - val_loss: 0.1102 - val_accuracy: 0.9688 - 38s/epoch - 2s/step\n",
            "Epoch 25/100\n",
            "25/25 - 38s - loss: 0.0435 - accuracy: 0.9837 - val_loss: 0.1205 - val_accuracy: 0.9500 - 38s/epoch - 2s/step\n",
            "Epoch 26/100\n",
            "25/25 - 37s - loss: 0.0376 - accuracy: 0.9824 - val_loss: 1.1352 - val_accuracy: 0.7688 - 37s/epoch - 1s/step\n",
            "Epoch 27/100\n",
            "25/25 - 38s - loss: 0.0609 - accuracy: 0.9850 - val_loss: 10.3141 - val_accuracy: 0.5750 - 38s/epoch - 2s/step\n",
            "Epoch 28/100\n",
            "25/25 - 37s - loss: 0.0697 - accuracy: 0.9786 - val_loss: 1.4862 - val_accuracy: 0.7563 - 37s/epoch - 1s/step\n",
            "Epoch 29/100\n",
            "25/25 - 37s - loss: 0.0763 - accuracy: 0.9849 - val_loss: 3.2468 - val_accuracy: 0.6125 - 37s/epoch - 1s/step\n",
            "Epoch 30/100\n",
            "25/25 - 37s - loss: 0.0456 - accuracy: 0.9875 - val_loss: 0.2373 - val_accuracy: 0.9250 - 37s/epoch - 1s/step\n",
            "Epoch 31/100\n",
            "25/25 - 37s - loss: 0.0363 - accuracy: 0.9837 - val_loss: 0.2558 - val_accuracy: 0.9625 - 37s/epoch - 1s/step\n",
            "Epoch 32/100\n",
            "25/25 - 37s - loss: 0.0880 - accuracy: 0.9825 - val_loss: 0.7771 - val_accuracy: 0.8813 - 37s/epoch - 1s/step\n",
            "Epoch 33/100\n",
            "25/25 - 37s - loss: 0.0511 - accuracy: 0.9849 - val_loss: 0.0710 - val_accuracy: 0.9875 - 37s/epoch - 1s/step\n",
            "Epoch 34/100\n",
            "25/25 - 37s - loss: 0.0520 - accuracy: 0.9837 - val_loss: 0.1406 - val_accuracy: 0.9812 - 37s/epoch - 1s/step\n",
            "Epoch 35/100\n",
            "25/25 - 37s - loss: 0.0419 - accuracy: 0.9925 - val_loss: 0.4286 - val_accuracy: 0.9688 - 37s/epoch - 1s/step\n",
            "Epoch 36/100\n",
            "25/25 - 37s - loss: 0.0418 - accuracy: 0.9849 - val_loss: 0.4164 - val_accuracy: 0.9187 - 37s/epoch - 1s/step\n",
            "Epoch 37/100\n",
            "25/25 - 37s - loss: 0.0867 - accuracy: 0.9825 - val_loss: 1.3834 - val_accuracy: 0.6187 - 37s/epoch - 1s/step\n",
            "Epoch 38/100\n",
            "25/25 - 37s - loss: 0.0264 - accuracy: 0.9925 - val_loss: 0.0317 - val_accuracy: 0.9875 - 37s/epoch - 1s/step\n",
            "Epoch 39/100\n",
            "25/25 - 37s - loss: 0.0370 - accuracy: 0.9912 - val_loss: 0.0046 - val_accuracy: 1.0000 - 37s/epoch - 1s/step\n",
            "Epoch 40/100\n",
            "25/25 - 37s - loss: 0.0237 - accuracy: 0.9937 - val_loss: 1.3349 - val_accuracy: 0.7312 - 37s/epoch - 1s/step\n",
            "Epoch 41/100\n",
            "25/25 - 37s - loss: 0.0494 - accuracy: 0.9887 - val_loss: 4.0133 - val_accuracy: 0.6750 - 37s/epoch - 1s/step\n",
            "Epoch 42/100\n",
            "25/25 - 37s - loss: 0.0096 - accuracy: 0.9975 - val_loss: 0.1702 - val_accuracy: 0.9563 - 37s/epoch - 1s/step\n",
            "Epoch 43/100\n",
            "25/25 - 37s - loss: 0.0475 - accuracy: 0.9874 - val_loss: 3.3219 - val_accuracy: 0.6812 - 37s/epoch - 1s/step\n",
            "Epoch 44/100\n",
            "25/25 - 37s - loss: 0.0575 - accuracy: 0.9849 - val_loss: 5.3935 - val_accuracy: 0.6562 - 37s/epoch - 1s/step\n",
            "Epoch 45/100\n",
            "25/25 - 37s - loss: 0.0181 - accuracy: 0.9937 - val_loss: 3.6742 - val_accuracy: 0.5938 - 37s/epoch - 1s/step\n",
            "Epoch 46/100\n",
            "25/25 - 37s - loss: 0.0144 - accuracy: 0.9925 - val_loss: 0.1133 - val_accuracy: 0.9625 - 37s/epoch - 1s/step\n",
            "Epoch 47/100\n",
            "25/25 - 37s - loss: 0.0066 - accuracy: 0.9975 - val_loss: 0.0364 - val_accuracy: 0.9875 - 37s/epoch - 1s/step\n",
            "Epoch 48/100\n",
            "25/25 - 37s - loss: 0.0405 - accuracy: 0.9899 - val_loss: 0.3143 - val_accuracy: 0.9375 - 37s/epoch - 1s/step\n",
            "Epoch 49/100\n",
            "25/25 - 37s - loss: 0.0234 - accuracy: 0.9912 - val_loss: 0.2515 - val_accuracy: 0.9625 - 37s/epoch - 1s/step\n",
            "Epoch 50/100\n",
            "25/25 - 37s - loss: 0.0465 - accuracy: 0.9912 - val_loss: 0.3088 - val_accuracy: 0.9625 - 37s/epoch - 1s/step\n",
            "Epoch 51/100\n",
            "25/25 - 37s - loss: 0.0453 - accuracy: 0.9850 - val_loss: 0.1914 - val_accuracy: 0.9750 - 37s/epoch - 1s/step\n",
            "Epoch 52/100\n",
            "25/25 - 37s - loss: 0.0024 - accuracy: 1.0000 - val_loss: 0.0132 - val_accuracy: 0.9937 - 37s/epoch - 1s/step\n",
            "Epoch 53/100\n",
            "25/25 - 37s - loss: 0.0348 - accuracy: 0.9900 - val_loss: 0.1084 - val_accuracy: 0.9750 - 37s/epoch - 1s/step\n",
            "Epoch 54/100\n",
            "25/25 - 37s - loss: 0.0171 - accuracy: 0.9925 - val_loss: 0.2116 - val_accuracy: 0.9625 - 37s/epoch - 1s/step\n",
            "Epoch 55/100\n",
            "25/25 - 37s - loss: 0.0061 - accuracy: 0.9975 - val_loss: 0.0671 - val_accuracy: 0.9812 - 37s/epoch - 1s/step\n",
            "Epoch 56/100\n",
            "25/25 - 37s - loss: 0.0217 - accuracy: 0.9950 - val_loss: 0.1940 - val_accuracy: 0.9563 - 37s/epoch - 1s/step\n",
            "Epoch 57/100\n",
            "25/25 - 37s - loss: 0.0505 - accuracy: 0.9874 - val_loss: 0.6893 - val_accuracy: 0.8938 - 37s/epoch - 1s/step\n",
            "Epoch 58/100\n",
            "25/25 - 37s - loss: 0.0250 - accuracy: 0.9925 - val_loss: 0.1084 - val_accuracy: 0.9688 - 37s/epoch - 1s/step\n",
            "Epoch 59/100\n",
            "25/25 - 38s - loss: 0.0569 - accuracy: 0.9875 - val_loss: 0.1303 - val_accuracy: 0.9563 - 38s/epoch - 2s/step\n",
            "Epoch 60/100\n",
            "25/25 - 37s - loss: 0.0021 - accuracy: 1.0000 - val_loss: 0.0633 - val_accuracy: 0.9937 - 37s/epoch - 1s/step\n",
            "Epoch 61/100\n",
            "25/25 - 37s - loss: 0.0258 - accuracy: 0.9900 - val_loss: 0.0858 - val_accuracy: 0.9750 - 37s/epoch - 1s/step\n",
            "Epoch 62/100\n",
            "25/25 - 37s - loss: 0.0523 - accuracy: 0.9849 - val_loss: 0.2642 - val_accuracy: 0.9563 - 37s/epoch - 1s/step\n",
            "Epoch 63/100\n",
            "25/25 - 37s - loss: 0.0169 - accuracy: 0.9950 - val_loss: 0.7721 - val_accuracy: 0.7937 - 37s/epoch - 1s/step\n",
            "Epoch 64/100\n",
            "25/25 - 37s - loss: 0.0191 - accuracy: 0.9925 - val_loss: 0.5512 - val_accuracy: 0.8562 - 37s/epoch - 1s/step\n",
            "Epoch 65/100\n",
            "25/25 - 37s - loss: 0.0398 - accuracy: 0.9887 - val_loss: 1.7122 - val_accuracy: 0.8375 - 37s/epoch - 1s/step\n",
            "Epoch 66/100\n",
            "25/25 - 37s - loss: 0.0126 - accuracy: 0.9962 - val_loss: 0.0676 - val_accuracy: 0.9812 - 37s/epoch - 1s/step\n",
            "Epoch 67/100\n",
            "25/25 - 37s - loss: 0.0360 - accuracy: 0.9925 - val_loss: 0.0726 - val_accuracy: 0.9875 - 37s/epoch - 1s/step\n",
            "Epoch 68/100\n",
            "25/25 - 37s - loss: 0.0207 - accuracy: 0.9950 - val_loss: 0.0587 - val_accuracy: 0.9875 - 37s/epoch - 1s/step\n",
            "Epoch 69/100\n",
            "25/25 - 37s - loss: 0.0261 - accuracy: 0.9925 - val_loss: 7.3681 - val_accuracy: 0.5250 - 37s/epoch - 1s/step\n",
            "Epoch 70/100\n",
            "25/25 - 37s - loss: 0.0108 - accuracy: 0.9962 - val_loss: 0.3148 - val_accuracy: 0.9438 - 37s/epoch - 1s/step\n",
            "Epoch 71/100\n",
            "25/25 - 37s - loss: 0.0057 - accuracy: 0.9975 - val_loss: 6.4419 - val_accuracy: 0.5250 - 37s/epoch - 1s/step\n",
            "Epoch 72/100\n",
            "25/25 - 38s - loss: 0.0125 - accuracy: 0.9975 - val_loss: 0.1472 - val_accuracy: 0.9625 - 38s/epoch - 2s/step\n",
            "Epoch 73/100\n",
            "25/25 - 37s - loss: 0.0241 - accuracy: 0.9950 - val_loss: 0.9729 - val_accuracy: 0.8250 - 37s/epoch - 1s/step\n",
            "Epoch 74/100\n",
            "25/25 - 37s - loss: 0.0258 - accuracy: 0.9887 - val_loss: 0.0056 - val_accuracy: 1.0000 - 37s/epoch - 1s/step\n",
            "Epoch 75/100\n",
            "25/25 - 37s - loss: 0.0148 - accuracy: 0.9962 - val_loss: 0.1638 - val_accuracy: 0.9438 - 37s/epoch - 1s/step\n",
            "Epoch 76/100\n",
            "25/25 - 37s - loss: 0.0751 - accuracy: 0.9862 - val_loss: 0.1868 - val_accuracy: 0.9625 - 37s/epoch - 1s/step\n",
            "Epoch 77/100\n",
            "25/25 - 37s - loss: 0.0091 - accuracy: 0.9975 - val_loss: 0.0826 - val_accuracy: 0.9750 - 37s/epoch - 1s/step\n",
            "Epoch 78/100\n",
            "25/25 - 37s - loss: 0.0430 - accuracy: 0.9899 - val_loss: 0.2519 - val_accuracy: 0.9688 - 37s/epoch - 1s/step\n",
            "Epoch 79/100\n",
            "25/25 - 37s - loss: 0.0073 - accuracy: 0.9987 - val_loss: 0.3192 - val_accuracy: 0.9625 - 37s/epoch - 1s/step\n",
            "Epoch 80/100\n",
            "25/25 - 37s - loss: 0.0122 - accuracy: 0.9937 - val_loss: 2.9740 - val_accuracy: 0.7250 - 37s/epoch - 1s/step\n",
            "Epoch 81/100\n",
            "25/25 - 38s - loss: 0.0144 - accuracy: 0.9962 - val_loss: 0.3656 - val_accuracy: 0.9187 - 38s/epoch - 2s/step\n",
            "Epoch 82/100\n",
            "25/25 - 37s - loss: 0.0031 - accuracy: 0.9987 - val_loss: 1.0169e-04 - val_accuracy: 1.0000 - 37s/epoch - 1s/step\n",
            "Epoch 83/100\n",
            "25/25 - 37s - loss: 0.0405 - accuracy: 0.9887 - val_loss: 0.0838 - val_accuracy: 0.9875 - 37s/epoch - 1s/step\n",
            "Epoch 84/100\n",
            "25/25 - 38s - loss: 0.0029 - accuracy: 0.9975 - val_loss: 0.2512 - val_accuracy: 0.9688 - 38s/epoch - 2s/step\n",
            "Epoch 85/100\n",
            "25/25 - 37s - loss: 0.0330 - accuracy: 0.9950 - val_loss: 0.2484 - val_accuracy: 0.9438 - 37s/epoch - 1s/step\n",
            "Epoch 86/100\n",
            "25/25 - 38s - loss: 0.0059 - accuracy: 0.9975 - val_loss: 0.1199 - val_accuracy: 0.9875 - 38s/epoch - 2s/step\n",
            "Epoch 87/100\n",
            "25/25 - 37s - loss: 0.0150 - accuracy: 0.9950 - val_loss: 0.0273 - val_accuracy: 0.9937 - 37s/epoch - 1s/step\n",
            "Epoch 88/100\n",
            "25/25 - 37s - loss: 0.0078 - accuracy: 0.9975 - val_loss: 0.4171 - val_accuracy: 0.9438 - 37s/epoch - 1s/step\n",
            "Epoch 89/100\n",
            "25/25 - 37s - loss: 0.0290 - accuracy: 0.9950 - val_loss: 0.0324 - val_accuracy: 0.9812 - 37s/epoch - 1s/step\n",
            "Epoch 90/100\n",
            "25/25 - 37s - loss: 0.0064 - accuracy: 0.9962 - val_loss: 0.3772 - val_accuracy: 0.9563 - 37s/epoch - 1s/step\n",
            "Epoch 91/100\n",
            "25/25 - 38s - loss: 0.0011 - accuracy: 1.0000 - val_loss: 0.1036 - val_accuracy: 0.9875 - 38s/epoch - 2s/step\n",
            "Epoch 92/100\n",
            "25/25 - 37s - loss: 0.0123 - accuracy: 0.9950 - val_loss: 0.2022 - val_accuracy: 0.9688 - 37s/epoch - 1s/step\n",
            "Epoch 93/100\n",
            "25/25 - 37s - loss: 0.0308 - accuracy: 0.9975 - val_loss: 0.5395 - val_accuracy: 0.9187 - 37s/epoch - 1s/step\n",
            "Epoch 94/100\n",
            "25/25 - 37s - loss: 0.0064 - accuracy: 0.9975 - val_loss: 0.1651 - val_accuracy: 0.9500 - 37s/epoch - 1s/step\n",
            "Epoch 95/100\n",
            "25/25 - 37s - loss: 0.0119 - accuracy: 0.9912 - val_loss: 0.2000 - val_accuracy: 0.9688 - 37s/epoch - 1s/step\n",
            "Epoch 96/100\n",
            "25/25 - 37s - loss: 0.0108 - accuracy: 0.9962 - val_loss: 0.3022 - val_accuracy: 0.9875 - 37s/epoch - 1s/step\n",
            "Epoch 97/100\n",
            "25/25 - 37s - loss: 0.0208 - accuracy: 0.9937 - val_loss: 1.0170 - val_accuracy: 0.8500 - 37s/epoch - 1s/step\n",
            "Epoch 98/100\n",
            "25/25 - 37s - loss: 0.0134 - accuracy: 0.9962 - val_loss: 0.0914 - val_accuracy: 0.9812 - 37s/epoch - 1s/step\n",
            "Epoch 99/100\n",
            "25/25 - 37s - loss: 0.0219 - accuracy: 0.9937 - val_loss: 0.4220 - val_accuracy: 0.9438 - 37s/epoch - 1s/step\n",
            "Epoch 100/100\n",
            "25/25 - 37s - loss: 0.0262 - accuracy: 0.9937 - val_loss: 1.1065 - val_accuracy: 0.8813 - 37s/epoch - 1s/step\n"
          ]
        }
      ]
    },
    {
      "cell_type": "code",
      "metadata": {
        "colab": {
          "base_uri": "https://localhost:8080/"
        },
        "id": "mJexJSuTzYfk",
        "outputId": "c6a47a9a-c31e-43ed-f988-1f337f2eb13a"
      },
      "source": [
        "import numpy as np\n",
        "from sklearn.metrics import confusion_matrix,classification_report\n",
        "\n",
        "predictions = model.predict(validation_generator)\n",
        "\n",
        "y_pred = np.argmax(predictions, axis=1)\n",
        "\n",
        "true_classes = validation_generator.classes\n",
        "\n",
        "class_labels = list(validation_generator.class_indices.keys())   \n",
        "\n",
        "report = classification_report(true_classes, y_pred, target_names=class_labels)\n",
        "print(report)"
      ],
      "execution_count": 18,
      "outputs": [
        {
          "output_type": "stream",
          "name": "stdout",
          "text": [
            "              precision    recall  f1-score   support\n",
            "\n",
            "       paper       0.33      0.51      0.41       142\n",
            "        rock       0.33      0.27      0.30       145\n",
            "    scissors       0.36      0.25      0.29       150\n",
            "\n",
            "    accuracy                           0.34       437\n",
            "   macro avg       0.34      0.34      0.33       437\n",
            "weighted avg       0.34      0.34      0.33       437\n",
            "\n"
          ]
        }
      ]
    },
    {
      "cell_type": "code",
      "source": [
        "model.save('PrakML_6.h5')"
      ],
      "metadata": {
        "id": "5ICyCIvFvpTA"
      },
      "execution_count": 20,
      "outputs": []
    },
    {
      "cell_type": "code",
      "metadata": {
        "colab": {
          "base_uri": "https://localhost:8080/",
          "height": 336
        },
        "id": "y5rfyKUr5fQV",
        "outputId": "fac1454f-5390-4329-cc2e-37f5196132d5"
      },
      "source": [
        "import matplotlib.pyplot as plt\n",
        "\n",
        "\n",
        "acc = history.history['accuracy']\n",
        "val_acc = history.history['val_accuracy']\n",
        "loss = history.history['loss']\n",
        "val_loss = history.history['val_loss']\n",
        "epochs_range = range(len(acc))\n",
        "\n",
        "plt.figure(figsize=(13, 5))\n",
        "plt.subplot(1, 2, 1)\n",
        "plt.plot(epochs_range, acc, label='Training Accuracy')\n",
        "plt.plot(epochs_range, val_acc, label='Validation Accuracy')\n",
        "plt.legend(loc='lower right')\n",
        "plt.title('Akurasi')\n",
        "\n",
        "plt.subplot(1, 2, 2)\n",
        "plt.plot(epochs_range, loss, label='Training Loss')\n",
        "plt.plot(epochs_range, val_loss, label='Validation Loss')\n",
        "plt.legend(loc='upper right')\n",
        "plt.title('Loss')\n",
        "plt.show()"
      ],
      "execution_count": null,
      "outputs": [
        {
          "output_type": "display_data",
          "data": {
            "image/png": "[encoded data removed]",
            "text/plain": [
              "<Figure size 936x360 with 2 Axes>"
            ]
          },
          "metadata": {
            "needs_background": "light"
          }
        }
      ]
    },
    {
      "cell_type": "code",
      "metadata": {
        "id": "GweQce3_iMVd"
      },
      "source": [
        "import numpy as np\n",
        "\n",
        "ypred = model.predict(test_generator)\n",
        "predictions = np.argmax(ypred, axis = 1)"
      ],
      "execution_count": null,
      "outputs": []
    },
    {
      "cell_type": "code",
      "metadata": {
        "colab": {
          "base_uri": "https://localhost:8080/",
          "height": 497
        },
        "id": "mC6DASHsCLZU",
        "outputId": "71db29ad-c701-49a6-f56a-aa33cced5cf2"
      },
      "source": [
        "results = confusion_matrix(test_generator.classes, y_pred)\n",
        "fig, ax = plt.subplots(figsize=(7.5, 7.5))\n",
        "ax.matshow(results, cmap=plt.cm.Blues, alpha=0.9)\n",
        "for i in range(results.shape[0]):\n",
        "    for j in range(results.shape[1]):\n",
        "        ax.text(x=j, y=i,s=results[i, j], va='center', ha='center', size='xx-large')\n",
        " \n",
        "plt.xlabel('Prediction', fontsize=14)\n",
        "plt.ylabel('Actual Label', fontsize=14)\n",
        "plt.title('Confusion Matrix', fontsize=18)\n",
        "plt.show()"
      ],
      "execution_count": null,
      "outputs": [
        {
          "output_type": "display_data",
          "data": {
            "image/png": "[encoded data removed]",
            "text/plain": [
              "<Figure size 540x540 with 1 Axes>"
            ]
          },
          "metadata": {
            "needs_background": "light"
          }
        }
      ]
    },
    {
      "cell_type": "code",
      "metadata": {
        "id": "ZKNjK56V2aJK"
      },
      "source": [
        "model.save('model.h5')"
      ],
      "execution_count": null,
      "outputs": []
    },
    {
      "cell_type": "markdown",
      "metadata": {
        "id": "-zzfYOy8U4TX"
      },
      "source": [
        "## Kegiatan 2 **(berkelompok)**\n",
        "30 poin"
      ]
    },
    {
      "cell_type": "markdown",
      "metadata": {
        "id": "OuUCK4qcEp97"
      },
      "source": [
        "**Ketentuan Wajib**\n",
        "* Tulis dokumentasi tugas kelompok anda dalam file README.md\n",
        "* Cek daftar dataset seluruh praktikan [disini](https://docs.google.com/spreadsheets/d/1qyu5AVDhPhegpRTbNaDoq5qXX4_CX09Q7tYyD-fkF_c/edit?usp=sharing)\n",
        "* Seluruh data dan progress pengerjaan tugas kelompok harus berada dalam github repository sebelum praktikum dimulai\n",
        "* Tidak diperbolehkan berganti anggota kelompok selama satu semester ini\n",
        "* Tidak diperbolehkan berganti repository selama mengerjakan tugas kelompok ini\n",
        "* **Tidak diperbolehkan berganti dataset atau jurnal rujukan**\n",
        "* Pastikan anda menggunakan akun github pribadi untuk melakukan commit dan push\n",
        "\n",
        "**Penilaian**\n",
        "* Keaktifan dalam tim\n",
        "* Kontribusi dalam proyek dan tim\n",
        "* Penerapan prinsip kerja Agile (sprint backlog dan report terdokumentasikan dengan baik)\n",
        "* Progress pengerjaan tugas kelompok\n",
        "* Pemahaman masing-masing anggota tim terhadap tugas yang dikerjakan\n",
        "* Pendokumentasian proyek \"clear and clean documentation\"\n",
        "\n",
        "**Materi pendukung**\n",
        "* [Project documentation](https://realpython.com/documenting-python-code)\n",
        "* [Github readme](https://docs.github.com/en/github/writing-on-github/getting-started-with-writing-and-formatting-on-github/basic-writing-and-formatting-syntax)\n",
        "* [Sprint backlog](https://www.lucidchart.com/blog/how-to-develop-a-product-backlog-in-agile)"
      ]
    },
    {
      "cell_type": "markdown",
      "metadata": {
        "id": "u8-XbSmMp0NT"
      },
      "source": [
        "**Tugas**\n",
        "\n",
        "Melanjutkan tugas kelompok di modul 1 & 2 sekarang kerjakan beberapa poin berikut untuk didemokan kepada asisten masing-masing.\n",
        "\n",
        "*   Melakukan proses preprocessing dataset dengan ketentuan:\n",
        " * augmentasi data menggunakan ImageDataGenerator\n",
        " * splitting dataset menjadi (75% train, 14% validation, 1% test)\n",
        "*   Melakukan training beberapa skema model menggunakan model CNN sederhana buatan sendiri **(minimal 2 model)** *tidak diperbolehkan menggunakan transfer learning* \n",
        " * Menerapkan proses Convolution\n",
        " * Menerapkan proses Pooling\n",
        " * Menerapkan Dropout\n",
        " * Menerpakan BatchNormalization\n",
        " * Model dengan beberapa variasi learning rate\n",
        " * Minimal 100 epoch per model\n",
        "* Menyimpan model yang telah di training kedalam file `.h5` [Lihat disini](https://www.tensorflow.org/tutorials/keras/save_and_load)\n",
        "*  Mencatat hasil perkembangan tugas kelompok dalam file `sprint_project.xlsx` tandai masing-masing task dengan status **Done** *untuk task yang telah selesai dikerjakan*, **On Going** *untuk task yang dalam proses pengerjaan*, **Waiting** *untuk task yang belum atau akan dikerjakan*\n",
        "* Pastikan anda menulis tanggal mulai dan tanggal selesai masing-masing task dengan benar\n",
        "* Pastikan anda menulis penanggung jawab masing-masing task (Penanggung jawab bertugas menyelesaikan dan menuntaskan masing-masing task yang diberikan)\n",
        "* `commit` dan `push` seluruh perkerjaan yang anda lakukan kedalam branch pribadi dalam repository tugas kelompok yang telah anda buat sebelumnya.\n",
        "* Presentasikan kepada asisten tentang apa yang anda lakukakan selama mengerjakan tugas kelompok ini. Ceritakan tentang tugas masing-masing anggota,  kendala dalam mengerjakan tugas sampai solusi yang anda lakukan saat mengerjakan tugas kelompok ini.\n",
        "\n"
      ]
    }
  ]
}